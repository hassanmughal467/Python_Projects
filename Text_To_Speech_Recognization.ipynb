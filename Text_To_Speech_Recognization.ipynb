{
 "cells": [
  {
   "cell_type": "code",
   "execution_count": 2,
   "metadata": {},
   "outputs": [
    {
     "data": {
      "text/plain": [
       "0"
      ]
     },
     "execution_count": 2,
     "metadata": {},
     "output_type": "execute_result"
    }
   ],
   "source": [
    "# Import the Gtts module for text  \n",
    "# to speech conversion \n",
    "from gtts import gTTS \n",
    "  \n",
    "# import Os module to start the audio file\n",
    "import os \n",
    "\n",
    "#fh = open(\"test.txt\", \"r\")\n",
    "#myText = fh.read().replace(\"\\n\", \" \")\n",
    "#myText=\"Text To Speech Convertion Using Python\"\n",
    "myText=\"How are you hassan? How may i help you?\"\n",
    "# Language we want to use \n",
    "language = 'en'\n",
    "\n",
    "output = gTTS(text=myText, lang=language, slow=False)\n",
    "\n",
    "output.save(\"output.mp3\")\n",
    "# Play the converted file \n",
    "os.system(\"start output.mp3\")"
   ]
  },
  {
   "cell_type": "code",
   "execution_count": null,
   "metadata": {},
   "outputs": [],
   "source": []
  }
 ],
 "metadata": {
  "kernelspec": {
   "display_name": "Python 3",
   "language": "python",
   "name": "python3"
  },
  "language_info": {
   "codemirror_mode": {
    "name": "ipython",
    "version": 3
   },
   "file_extension": ".py",
   "mimetype": "text/x-python",
   "name": "python",
   "nbconvert_exporter": "python",
   "pygments_lexer": "ipython3",
   "version": "3.7.3"
  }
 },
 "nbformat": 4,
 "nbformat_minor": 2
}
